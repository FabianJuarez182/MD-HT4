{
 "cells": [
  {
   "cell_type": "markdown",
   "metadata": {},
   "source": [
    "# HT 4. Arboles de decisión\n",
    "\n",
    "## Miembros\n",
    "- Fabian Estuardo Juarez Tello 21440\n",
    "- Diego Estuardo Lemus Lopez 21469\n",
    "\n",
    "## Link al repositorio\n",
    "El repositorio puede ser visualizado [acá](https://github.com/FabianJuarez182/MD-HT4.git)\n",
    "\n",
    "## Link al documento\n",
    "El documento puede ser visualizado [acá]()"
   ]
  }
 ],
 "metadata": {
  "kernelspec": {
   "display_name": "Python 3",
   "language": "python",
   "name": "python3"
  },
  "language_info": {
   "codemirror_mode": {
    "name": "ipython",
    "version": 3
   },
   "file_extension": ".py",
   "mimetype": "text/x-python",
   "name": "python",
   "nbconvert_exporter": "python",
   "pygments_lexer": "ipython3",
   "version": "3.11.0"
  }
 },
 "nbformat": 4,
 "nbformat_minor": 2
}
